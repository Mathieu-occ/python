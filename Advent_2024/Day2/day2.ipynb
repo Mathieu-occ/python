{
 "cells": [
  {
   "cell_type": "code",
   "execution_count": 3,
   "metadata": {},
   "outputs": [],
   "source": [
    "import pandas as pd\n",
    "import numpy as np\n",
    "\n",
    "\n",
    "my_cols=['A','B','C','D','E','F','G','H','I']\n",
    "\n",
    "data = pd.read_csv('input_day2.txt',  sep=\"\\s+\", names=my_cols, engine='python')\n",
    "\n",
    "data_np=data.to_numpy()\n"
   ]
  },
  {
   "cell_type": "code",
   "execution_count": 4,
   "metadata": {},
   "outputs": [
    {
     "name": "stdout",
     "output_type": "stream",
     "text": [
      "Unsafe asc: 806\n",
      "Unsafe desc: 783\n",
      "Safe: 411\n"
     ]
    }
   ],
   "source": [
    "\n",
    "# part1\n",
    "\n",
    "\n",
    "\n",
    "nb_range = 1000\n",
    "nb_unsafe_reports_asc = 0\n",
    "nb_unsafe_reports_desc = 0\n",
    "\n",
    "for row_id in range(nb_range):\n",
    "    test=False\n",
    "    col_id=0\n",
    "\n",
    "    while test==False and np.isnan(data_np[row_id][col_id+1])==False :\n",
    "        if data_np[row_id][col_id]<data_np[row_id][col_id+1] and data_np[row_id][col_id+1] - data_np[row_id][col_id]<=3:\n",
    "            col_id=col_id+1\n",
    "        else:\n",
    "            test=True\n",
    "            nb_unsafe_reports_asc = nb_unsafe_reports_asc+1\n",
    "            #print(row_id)\n",
    "    \n",
    "    test=False\n",
    "    col_id=0\n",
    "    \n",
    "    while test==False and np.isnan(data_np[row_id][col_id+1])==False :\n",
    "        if data_np[row_id][col_id]>data_np[row_id][col_id+1] and data_np[row_id][col_id+1] - data_np[row_id][col_id]>=-3:\n",
    "            col_id=col_id+1\n",
    "        else:\n",
    "            test=True\n",
    "            nb_unsafe_reports_desc = nb_unsafe_reports_desc+1\n",
    "            #print(row_id)\n",
    "            \n",
    "print(\"Unsafe asc:\",nb_unsafe_reports_asc)\n",
    "print(\"Unsafe desc:\",nb_unsafe_reports_desc)\n",
    "\n",
    "print(\"Safe:\",nb_range-nb_unsafe_reports_asc+nb_range-nb_unsafe_reports_desc)\n",
    "\n",
    "\n"
   ]
  },
  {
   "cell_type": "code",
   "execution_count": 12,
   "metadata": {},
   "outputs": [
    {
     "name": "stdout",
     "output_type": "stream",
     "text": [
      "Unsafe asc: 794\n",
      "Unsafe desc: 771\n",
      "Safe: 435\n"
     ]
    }
   ],
   "source": [
    "#part2\n",
    "\n",
    "data_np=data.to_numpy()\n",
    "\n",
    "nb_range = 1000\n",
    "nb_unsafe_reports_asc = 0\n",
    "nb_unsafe_reports_desc = 0\n",
    "\n",
    "for row_id in range(nb_range):\n",
    "    tolerance=0\n",
    "    col_id=0\n",
    "\n",
    "    while tolerance<2 and np.isnan(data_np[row_id][col_id+1])==False :\n",
    "        if data_np[row_id][col_id]<data_np[row_id][col_id+1] and data_np[row_id][col_id+1] - data_np[row_id][col_id]<=3:\n",
    "            col_id=col_id+1\n",
    "        elif np.isnan(data_np[row_id][col_id+2])==False and data_np[row_id][col_id]<data_np[row_id][col_id+2] and data_np[row_id][col_id+2] - data_np[row_id][col_id]<=3:\n",
    "            col_id=col_id+2\n",
    "            tolerance=tolerance+1\n",
    "        else:\n",
    "            tolerance=999\n",
    "        if tolerance >1:\n",
    "            nb_unsafe_reports_asc = nb_unsafe_reports_asc+1\n",
    "    \n",
    "    tolerance=0\n",
    "    col_id=0\n",
    "    \n",
    "    while tolerance<2 and np.isnan(data_np[row_id][col_id+1])==False :\n",
    "        if data_np[row_id][col_id]>data_np[row_id][col_id+1] and data_np[row_id][col_id+1] - data_np[row_id][col_id]>=-3:\n",
    "            col_id=col_id+1\n",
    "        elif np.isnan(data_np[row_id][col_id+2])==False and data_np[row_id][col_id]>data_np[row_id][col_id+2] and data_np[row_id][col_id+2] - data_np[row_id][col_id]>=-3:\n",
    "            col_id=col_id+2\n",
    "            tolerance=tolerance+1    \n",
    "        else:\n",
    "            tolerance=999\n",
    "        if tolerance >1:\n",
    "            nb_unsafe_reports_desc = nb_unsafe_reports_desc+1\n",
    "            \n",
    "print(\"Unsafe asc:\",nb_unsafe_reports_asc)\n",
    "print(\"Unsafe desc:\",nb_unsafe_reports_desc)\n",
    "\n",
    "print(\"Safe:\",nb_range-nb_unsafe_reports_asc+nb_range-nb_unsafe_reports_desc)"
   ]
  }
 ],
 "metadata": {
  "kernelspec": {
   "display_name": "Python 3",
   "language": "python",
   "name": "python3"
  },
  "language_info": {
   "codemirror_mode": {
    "name": "ipython",
    "version": 3
   },
   "file_extension": ".py",
   "mimetype": "text/x-python",
   "name": "python",
   "nbconvert_exporter": "python",
   "pygments_lexer": "ipython3",
   "version": "3.9.6"
  }
 },
 "nbformat": 4,
 "nbformat_minor": 2
}
