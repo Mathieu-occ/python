{
 "cells": [
  {
   "cell_type": "code",
   "execution_count": 1,
   "metadata": {},
   "outputs": [],
   "source": [
    "import pandas as pd\n",
    "import numpy as np"
   ]
  },
  {
   "cell_type": "code",
   "execution_count": 35,
   "metadata": {},
   "outputs": [
    {
     "name": "stdout",
     "output_type": "stream",
     "text": [
      "3569916\n"
     ]
    }
   ],
   "source": [
    "data = pd.read_csv('input.txt', sep=\"\\s+\", header=None)\n",
    "# part1\n",
    "\n",
    "#print(data[1][1])\n",
    "list1=data[0].sort_values(ignore_index=True)\n",
    "list2=data[1].sort_values(ignore_index=True)\n",
    "dist = 0\n",
    "\n",
    "for cpt in range(1000):\n",
    "    dist = dist + abs(list1[cpt]-list2[cpt])\n",
    "\n",
    "print(dist)"
   ]
  },
  {
   "cell_type": "code",
   "execution_count": 34,
   "metadata": {},
   "outputs": [
    {
     "name": "stdout",
     "output_type": "stream",
     "text": [
      "26407426\n"
     ]
    }
   ],
   "source": [
    "#part2\n",
    "\n",
    "similarity = 0\n",
    "\n",
    "for i in range(1000):\n",
    "    for j in range(1000):\n",
    "         if data[0][i] == data[1][j]:\n",
    "            similarity = similarity + data[0][i]\n",
    "print(similarity)"
   ]
  }
 ],
 "metadata": {
  "kernelspec": {
   "display_name": "Python 3",
   "language": "python",
   "name": "python3"
  },
  "language_info": {
   "codemirror_mode": {
    "name": "ipython",
    "version": 3
   },
   "file_extension": ".py",
   "mimetype": "text/x-python",
   "name": "python",
   "nbconvert_exporter": "python",
   "pygments_lexer": "ipython3",
   "version": "3.9.6"
  }
 },
 "nbformat": 4,
 "nbformat_minor": 2
}
