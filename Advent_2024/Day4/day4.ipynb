{
 "cells": [
  {
   "cell_type": "code",
   "execution_count": null,
   "metadata": {},
   "outputs": [],
   "source": [
    "\n",
    "import os"
   ]
  },
  {
   "cell_type": "code",
   "execution_count": 1,
   "metadata": {},
   "outputs": [
    {
     "name": "stdout",
     "output_type": "stream",
     "text": [
      "[['MMMSXXMASM\\n'], ['MSAMXMSMSA\\n'], ['AMXSXMAAMM\\n'], ['MSAMASMSMX\\n'], ['XMASAMXAMM\\n'], ['XXAMMXXAMA\\n'], ['SMSMSASXSS\\n'], ['SAXAMASAAA\\n'], ['MAMMMXMMMM\\n'], ['MXMXAXMASX']]\n"
     ]
    }
   ],
   "source": [
    "\n",
    "# part1\n",
    "\n",
    "size = 10 #140\n",
    "\n",
    "my_table = [] \n",
    "\n",
    "with open('input_test.txt', 'r') as f:\n",
    "        for line in f.readlines():\n",
    "            my_table.append(line.split(' '))\n",
    "\n",
    "print(my_table)\n",
    "\n",
    "# \\n\n"
   ]
  },
  {
   "cell_type": "code",
   "execution_count": null,
   "metadata": {},
   "outputs": [],
   "source": [
    "#part2"
   ]
  }
 ],
 "metadata": {
  "kernelspec": {
   "display_name": "Python 3",
   "language": "python",
   "name": "python3"
  },
  "language_info": {
   "codemirror_mode": {
    "name": "ipython",
    "version": 3
   },
   "file_extension": ".py",
   "mimetype": "text/x-python",
   "name": "python",
   "nbconvert_exporter": "python",
   "pygments_lexer": "ipython3",
   "version": "3.9.6"
  }
 },
 "nbformat": 4,
 "nbformat_minor": 2
}
